{
 "cells": [
  {
   "cell_type": "code",
   "execution_count": 1,
   "metadata": {},
   "outputs": [],
   "source": [
    "from mobility.get_insee_data import get_insee_data\n",
    "from mobility.parsers import download_work_home_flows\n",
    "import mobility.radiation_model as rm\n",
    "import numpy as np\n",
    "import pandas as pd\n",
    "import os\n",
    "import time\n",
    "from pathlib import Path\n",
    "from mobility.parsers import communes"
   ]
  },
  {
   "cell_type": "code",
   "execution_count": null,
   "metadata": {},
   "outputs": [],
   "source": [
    "# Calculate Internal Distances\n",
    "from scipy.spatial.distance import cdist\n",
    "def internal_distances(data):\n",
    "    # Drop Nan value \n",
    "    df1=data.dropna(subset=['INSEE_COM','x', 'y'])\n",
    "    distances = cdist(df1[['x', 'y']], df1[['x', 'y']], 'euclidean')\n",
    "    distance_interne = []\n",
    "    for i in range(len(distances)):\n",
    "        distance_interne.append({'INSEE_COM': df1.iloc[i]['INSEE_COM'], 'distance_interne': (distances[i].sum())/len(distances)})\n",
    "\n",
    "    # Convert the results to a DataFrame\n",
    "    distance_interne = pd.DataFrame(distance_interne)\n",
    "    return distance_interne"
   ]
  }
 ],
 "metadata": {
  "kernelspec": {
   "display_name": "Python 3",
   "language": "python",
   "name": "python3"
  },
  "language_info": {
   "codemirror_mode": {
    "name": "ipython",
    "version": 3
   },
   "file_extension": ".py",
   "mimetype": "text/x-python",
   "name": "python",
   "nbconvert_exporter": "python",
   "pygments_lexer": "ipython3",
   "version": "3.10.4"
  },
  "orig_nbformat": 4,
  "vscode": {
   "interpreter": {
    "hash": "a9cff5a362bc38ef45d817ae74b1af54d6a076e3d773891282bce078b815ba34"
   }
  }
 },
 "nbformat": 4,
 "nbformat_minor": 2
}
